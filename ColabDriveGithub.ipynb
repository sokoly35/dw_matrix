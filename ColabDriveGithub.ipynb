{
  "nbformat": 4,
  "nbformat_minor": 0,
  "metadata": {
    "colab": {
      "name": "ColabDriveGithub.ipynb",
      "provenance": [],
      "collapsed_sections": [],
      "include_colab_link": true
    },
    "kernelspec": {
      "name": "python3",
      "display_name": "Python 3"
    }
  },
  "cells": [
    {
      "cell_type": "markdown",
      "metadata": {
        "id": "view-in-github",
        "colab_type": "text"
      },
      "source": [
        "<a href=\"https://colab.research.google.com/github/sokoly35/dw_matrix/blob/master/ColabDriveGithub.ipynb\" target=\"_parent\"><img src=\"https://colab.research.google.com/assets/colab-badge.svg\" alt=\"Open In Colab\"/></a>"
      ]
    },
    {
      "cell_type": "code",
      "metadata": {
        "id": "9LmbPdOLSTF_",
        "colab_type": "code",
        "colab": {}
      },
      "source": [
        "from google.colab import drive"
      ],
      "execution_count": 0,
      "outputs": []
    },
    {
      "cell_type": "code",
      "metadata": {
        "id": "hMPaCq1aScxl",
        "colab_type": "code",
        "colab": {}
      },
      "source": [
        "# ROOT = '/content/drive'\n",
        "# drive.mount(ROOT)"
      ],
      "execution_count": 0,
      "outputs": []
    },
    {
      "cell_type": "code",
      "metadata": {
        "id": "rVraR5NwTD-4",
        "colab_type": "code",
        "outputId": "c9a3d6be-292c-47ea-a335-656f78dff3de",
        "colab": {
          "base_uri": "https://localhost:8080/",
          "height": 34
        }
      },
      "source": [
        "HOME= ROOT+ '/My Drive/Colab Notebooks'\n",
        "HOME"
      ],
      "execution_count": 0,
      "outputs": [
        {
          "output_type": "execute_result",
          "data": {
            "text/plain": [
              "'/content/drive/My Drive/Colab Notebooks'"
            ]
          },
          "metadata": {
            "tags": []
          },
          "execution_count": 8
        }
      ]
    },
    {
      "cell_type": "code",
      "metadata": {
        "id": "e4vAt7JQTcjW",
        "colab_type": "code",
        "colab": {}
      },
      "source": [
        "!mkdir -p '{HOME}'"
      ],
      "execution_count": 0,
      "outputs": []
    },
    {
      "cell_type": "code",
      "metadata": {
        "id": "2IHUeVWpTjQo",
        "colab_type": "code",
        "outputId": "3b82518c-5a91-491a-d61a-91320d6d5a6d",
        "colab": {
          "base_uri": "https://localhost:8080/",
          "height": 34
        }
      },
      "source": [
        "cd {HOME}"
      ],
      "execution_count": 0,
      "outputs": [
        {
          "output_type": "stream",
          "text": [
            "/content/drive/My Drive/Colab Notebooks\n"
          ],
          "name": "stdout"
        }
      ]
    },
    {
      "cell_type": "code",
      "metadata": {
        "id": "bIR13YRpTvRj",
        "colab_type": "code",
        "outputId": "08aa1169-6d71-44b3-f38c-4e31ddd487f4",
        "colab": {
          "base_uri": "https://localhost:8080/",
          "height": 34
        }
      },
      "source": [
        "ls"
      ],
      "execution_count": 0,
      "outputs": [
        {
          "output_type": "stream",
          "text": [
            "\u001b[0m\u001b[01;34mdata\u001b[0m/  \u001b[01;34mdw_matrix\u001b[0m/  HelloGithub.ipynb  LICENSE  \u001b[01;34mmatrix_one\u001b[0m/  README.md\n"
          ],
          "name": "stdout"
        }
      ]
    },
    {
      "cell_type": "code",
      "metadata": {
        "id": "GPGLbhg_TwoK",
        "colab_type": "code",
        "colab": {}
      },
      "source": [
        "GITHUB_TOKEN = 'Token Git'\n",
        "GITHUB_URL = 'https://{0}@github.com/sokoly35/dw_matrix.git'.format(GITHUB_TOKEN)"
      ],
      "execution_count": 0,
      "outputs": []
    },
    {
      "cell_type": "code",
      "metadata": {
        "id": "C0P3HnJXa_29",
        "colab_type": "code",
        "outputId": "c32410f6-17c3-4e87-bcab-f49e2af01de3",
        "colab": {
          "base_uri": "https://localhost:8080/",
          "height": 34
        }
      },
      "source": [
        "!ls"
      ],
      "execution_count": 0,
      "outputs": [
        {
          "output_type": "stream",
          "text": [
            "dw_matrix\n"
          ],
          "name": "stdout"
        }
      ]
    },
    {
      "cell_type": "code",
      "metadata": {
        "id": "ApLPYq-_bC-s",
        "colab_type": "code",
        "outputId": "e8400ba9-3a4a-4dfb-de6d-5597a0f74d94",
        "colab": {
          "base_uri": "https://localhost:8080/",
          "height": 34
        }
      },
      "source": [
        "cd dw_matrix"
      ],
      "execution_count": 0,
      "outputs": [
        {
          "output_type": "stream",
          "text": [
            "/content/drive/My Drive/Colab Notebooks/dw_matrix\n"
          ],
          "name": "stdout"
        }
      ]
    },
    {
      "cell_type": "code",
      "metadata": {
        "id": "3BGbh4V9bIYN",
        "colab_type": "code",
        "outputId": "909a38f6-0d54-462c-d07c-fa41fe3e6ce1",
        "colab": {
          "base_uri": "https://localhost:8080/",
          "height": 50
        }
      },
      "source": [
        "ls"
      ],
      "execution_count": 0,
      "outputs": [
        {
          "output_type": "stream",
          "text": [
            "ColabDriveGithub.ipynb  \u001b[0m\u001b[01;34mdw_matrix\u001b[0m/         LICENSE      README.md\n",
            "\u001b[01;34mdata\u001b[0m/                   HelloGithub.ipynb  \u001b[01;34mmatrix_one\u001b[0m/\n"
          ],
          "name": "stdout"
        }
      ]
    },
    {
      "cell_type": "code",
      "metadata": {
        "id": "f7q2n05ybK2b",
        "colab_type": "code",
        "colab": {}
      },
      "source": [
        "!git add HelloGithub.ipynb "
      ],
      "execution_count": 0,
      "outputs": []
    },
    {
      "cell_type": "code",
      "metadata": {
        "id": "wumHuMQ_byXu",
        "colab_type": "code",
        "outputId": "eae311e7-0497-4ef5-866b-f4933ad349c0",
        "colab": {
          "base_uri": "https://localhost:8080/",
          "height": 67
        }
      },
      "source": [
        "!git commit -m 'add my first notebook - hello github'"
      ],
      "execution_count": 0,
      "outputs": [
        {
          "output_type": "stream",
          "text": [
            "[master 53f6ee8] add my first notebook - hello github\n",
            " 1 file changed, 1 insertion(+)\n",
            " create mode 100644 HelloGithub.ipynb\n"
          ],
          "name": "stdout"
        }
      ]
    },
    {
      "cell_type": "code",
      "metadata": {
        "id": "nVPWb9AScEnV",
        "colab_type": "code",
        "outputId": "e18e7fdc-db85-4410-e10b-453b2c34c8ee",
        "colab": {
          "base_uri": "https://localhost:8080/",
          "height": 151
        }
      },
      "source": [
        "!git push -u origin master"
      ],
      "execution_count": 0,
      "outputs": [
        {
          "output_type": "stream",
          "text": [
            "Counting objects: 3, done.\n",
            "Delta compression using up to 2 threads.\n",
            "Compressing objects:  33% (1/3)   \rCompressing objects:  66% (2/3)   \rCompressing objects: 100% (3/3)   \rCompressing objects: 100% (3/3), done.\n",
            "Writing objects:  33% (1/3)   \rWriting objects:  66% (2/3)   \rWriting objects: 100% (3/3)   \rWriting objects: 100% (3/3), 937 bytes | 312.00 KiB/s, done.\n",
            "Total 3 (delta 0), reused 0 (delta 0)\n",
            "To https://github.com/sokoly35/dw_matrix.git\n",
            "   6b07eac..53f6ee8  master -> master\n",
            "Branch 'master' set up to track remote branch 'master' from 'origin'.\n"
          ],
          "name": "stdout"
        }
      ]
    },
    {
      "cell_type": "code",
      "metadata": {
        "id": "6ot7y2-ScScI",
        "colab_type": "code",
        "outputId": "2ca99811-9656-4763-8e1f-3a2c670dde05",
        "colab": {
          "base_uri": "https://localhost:8080/",
          "height": 34
        }
      },
      "source": [
        "!git add ColabDriveGithub.ipynb"
      ],
      "execution_count": 0,
      "outputs": [
        {
          "output_type": "stream",
          "text": [
            "fatal: pathspec 'ColabDriveGithub.ipynb' did not match any files\n"
          ],
          "name": "stdout"
        }
      ]
    },
    {
      "cell_type": "code",
      "metadata": {
        "id": "k1qfUQ2OVUQQ",
        "colab_type": "code",
        "outputId": "2e6a9a42-6634-42ce-872b-f85c685e26d6",
        "colab": {
          "base_uri": "https://localhost:8080/",
          "height": 34
        }
      },
      "source": [
        "ls"
      ],
      "execution_count": 0,
      "outputs": [
        {
          "output_type": "stream",
          "text": [
            "\u001b[0m\u001b[01;34mdata\u001b[0m/  \u001b[01;34mdw_matrix\u001b[0m/  HelloGithub.ipynb  LICENSE  \u001b[01;34mmatrix_one\u001b[0m/  README.md\n"
          ],
          "name": "stdout"
        }
      ]
    },
    {
      "cell_type": "code",
      "metadata": {
        "id": "12YzewdHdpaO",
        "colab_type": "code",
        "colab": {}
      },
      "source": [
        "# !git commit -m 'instruction to connect colab with github'"
      ],
      "execution_count": 0,
      "outputs": []
    },
    {
      "cell_type": "code",
      "metadata": {
        "id": "8xBBUg5peQ_V",
        "colab_type": "code",
        "colab": {}
      },
      "source": [
        "# !git push"
      ],
      "execution_count": 0,
      "outputs": []
    },
    {
      "cell_type": "code",
      "metadata": {
        "id": "SwVT6-JrUw5K",
        "colab_type": "code",
        "colab": {}
      },
      "source": [
        ""
      ],
      "execution_count": 0,
      "outputs": []
    }
  ]
}